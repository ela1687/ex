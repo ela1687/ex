{
 "cells": [
  {
   "cell_type": "markdown",
   "metadata": {},
   "source": [
    "Série d'exercice n°1\n",
    "=="
   ]
  },
  {
   "cell_type": "markdown",
   "metadata": {},
   "source": [
    "**Exercice n°1:**"
   ]
  },
  {
   "cell_type": "markdown",
   "metadata": {},
   "source": [
    "Réaliser un programme permettant de simuler le lancer d'un dé.  \n",
    "Le programme permettra d'afficher \"gagné\" si le chiffre sorti  \n",
    "est strictement inférieur à 3 ou égal à 6 et d'afficher \"perdu\"   \n",
    "dans les autres cas."
   ]
  },
  {
   "cell_type": "code",
   "execution_count": null,
   "metadata": {},
   "outputs": [],
   "source": [
    "from random import*\n",
    "\n",
    "d=randint(1,6)\n",
    "\n",
    "print(d)\n",
    "\n",
    "if d<3 or d==6:\n",
    "    print(\"Gagné!\")\n",
    "else:\n",
    "    print(\"Perdu.\")"
   ]
  },
  {
   "cell_type": "markdown",
   "metadata": {},
   "source": [
    "**Exercice n°2:**"
   ]
  },
  {
   "cell_type": "markdown",
   "metadata": {},
   "source": [
    "Écrire un programme permettant de simuler 100 lancers d'un dé équilibré  \n",
    "et d'afficher la fréquence de sortie du 4."
   ]
  },
  {
   "cell_type": "code",
   "execution_count": null,
   "metadata": {},
   "outputs": [],
   "source": [
    "from random import*\n",
    "\n",
    "compteur=0\n",
    "frequence=0\n",
    "\n",
    "for i in range(100):\n",
    "    d=randint(1,6)\n",
    "    if d==4:\n",
    "        compteur=compteur+1\n",
    "        \n",
    "frequence=compteur/100\n",
    "\n",
    "print(\"La fréquence observée du 4 est: \", frequence)\n"
   ]
  },
  {
   "cell_type": "markdown",
   "metadata": {},
   "source": [
    "**Exercice n°3**"
   ]
  },
  {
   "cell_type": "markdown",
   "metadata": {},
   "source": [
    "Réaliser un programme permettant de simuler un nombre N de lancers d'un dé équilibré \n",
    "(Le nombre N étant saisi par l'utilisateur ) et d'afficher la fréquence de sortie du 4."
   ]
  },
  {
   "cell_type": "code",
   "execution_count": null,
   "metadata": {},
   "outputs": [],
   "source": [
    "from random import*\n",
    "\n",
    "compteur=0\n",
    "frequence=0\n",
    "\n",
    "N=int(input(\"Saisir le nombre de lancers\"))\n",
    "\n",
    "for i in range(N):\n",
    "    d=randint(1,6)\n",
    "    if d==4:\n",
    "        compteur=compteur+1\n",
    "        \n",
    "frequence=compteur/N\n",
    "\n",
    "print(\"La fréquence observée du 4 est: \", frequence)\n"
   ]
  },
  {
   "cell_type": "markdown",
   "metadata": {},
   "source": [
    "**Exercice n°4**"
   ]
  },
  {
   "cell_type": "markdown",
   "metadata": {},
   "source": [
    "Réaliser un programme permettant de simuler 500 lancers de deux dés équilibrés, de calculer la somme des sorties et d'afficher la fréquence de la somme 9."
   ]
  },
  {
   "cell_type": "code",
   "execution_count": 1,
   "metadata": {},
   "outputs": [
    {
     "name": "stdout",
     "output_type": "stream",
     "text": [
      "La fréquence de la somme 9 est : 0.11\n"
     ]
    }
   ],
   "source": [
    "from random import*\n",
    "compteur=0\n",
    "frequence=0\n",
    "for i in range(500):\n",
    "    d1=randint(1,6)\n",
    "    d2=randint(1,6)\n",
    "    S=d1+d2\n",
    "    if S==9:\n",
    "        compteur=compteur+1\n",
    "frequence=compteur/500\n",
    "\n",
    "print(\"La fréquence de la somme 9 est :\",frequence )\n"
   ]
  },
  {
   "cell_type": "markdown",
   "metadata": {},
   "source": [
    "**Exercice n°5**"
   ]
  },
  {
   "cell_type": "markdown",
   "metadata": {},
   "source": [
    "Écrire un algorithme permettant de déterminer et d'afficher le plus petit entier $n$ tel que $2^n \\geqslant N$ où $N$ est un entier entré par l'utilisateur."
   ]
  },
  {
   "cell_type": "code",
   "execution_count": 2,
   "metadata": {},
   "outputs": [
    {
     "name": "stdin",
     "output_type": "stream",
     "text": [
      "Saisir un entier N:  10\n"
     ]
    },
    {
     "name": "stdout",
     "output_type": "stream",
     "text": [
      "4\n"
     ]
    }
   ],
   "source": [
    "n=0\n",
    "N=int(input('Saisir un entier N: '))\n",
    "while 2**n < N:\n",
    "    n+=1\n",
    "print(n)"
   ]
  },
  {
   "cell_type": "markdown",
   "metadata": {},
   "source": [
    "**Exercice n°6**"
   ]
  },
  {
   "cell_type": "markdown",
   "metadata": {},
   "source": [
    "Écrire un programme permettant de déterminer à partir de quel indice $n$ la somme des carrés des entiers naturels dépasse un nombre $N$ saisi par l'utilisateur. ($1+2^2+3^2+...+n^2> N$)"
   ]
  },
  {
   "cell_type": "code",
   "execution_count": 4,
   "metadata": {},
   "outputs": [
    {
     "name": "stdin",
     "output_type": "stream",
     "text": [
      "Saisir un entier:  10\n"
     ]
    },
    {
     "name": "stdout",
     "output_type": "stream",
     "text": [
      "4\n"
     ]
    }
   ],
   "source": [
    "S=0\n",
    "k=0\n",
    "N=int(input('Saisir un entier: '))\n",
    "while S<N:\n",
    "    k=k+1\n",
    "    S=S+k*k\n",
    "print(n)"
   ]
  },
  {
   "cell_type": "markdown",
   "metadata": {},
   "source": [
    "**Exercice n°7**"
   ]
  },
  {
   "cell_type": "markdown",
   "metadata": {},
   "source": [
    "Écrire un programme permettant de simuler le lancer d'un dé équilibré et d'afficher le nombre de lancers réalisés avant d'obtenir 4 pour la première fois."
   ]
  },
  {
   "cell_type": "code",
   "execution_count": 15,
   "metadata": {},
   "outputs": [
    {
     "name": "stdout",
     "output_type": "stream",
     "text": [
      "11\n"
     ]
    }
   ],
   "source": [
    "from random import*\n",
    "n=1\n",
    "while randint(1,6)!=4:\n",
    "    n=n+1\n",
    "print(n)"
   ]
  },
  {
   "cell_type": "markdown",
   "metadata": {},
   "source": [
    "**Exercice n°8**"
   ]
  },
  {
   "cell_type": "markdown",
   "metadata": {},
   "source": [
    "Saisir et compléter le programme ci-dessous pour qu'il puisse afficher si un mot saisi par l'utilisateur est un palindrome ou non."
   ]
  },
  {
   "cell_type": "code",
   "execution_count": null,
   "metadata": {},
   "outputs": [],
   "source": [
    "motsaisi=input(\"Saisir un mot: \")\n",
    "motinverse=\"\"\n",
    "n=len(motsaisi)\n",
    "for i in range(n):\n",
    "    motinverse=motinverse+motsaisi[n-i-1]\n",
    "print(motinverse)"
   ]
  },
  {
   "cell_type": "markdown",
   "metadata": {},
   "source": [
    "**Exercice n°9**"
   ]
  },
  {
   "cell_type": "markdown",
   "metadata": {},
   "source": [
    "On considère le programme ci-dessous:"
   ]
  },
  {
   "cell_type": "code",
   "execution_count": null,
   "metadata": {},
   "outputs": [],
   "source": [
    "bissextile=[]   # on déclare une liste vide\n",
    "\n",
    "for i in range(1900,2030):\n",
    "    if (i % 4==0 and i % 100!=0) or (i % 400==0):\n",
    "        # on ajoute les années bissextiles en fin de liste\n",
    "        bissextile.append(i) \n",
    "           \n",
    "print(bissextile)"
   ]
  },
  {
   "cell_type": "markdown",
   "metadata": {},
   "source": [
    "1. Traduire en français les conditions permettant de vérifier si une année est bissextile.\n",
    "\n",
    "\n",
    "2. Saisir et modifier le programme pour qu'il affiche les années bissextiles entre 2000 et 2100 inclus."
   ]
  },
  {
   "cell_type": "markdown",
   "metadata": {},
   "source": [
    "**Exercice n°10**"
   ]
  },
  {
   "cell_type": "markdown",
   "metadata": {},
   "source": [
    "Écrire un programme permettant d'afficher la liste des diviseurs d'un entier $n$ saisi par l'utilisateur."
   ]
  },
  {
   "cell_type": "code",
   "execution_count": 16,
   "metadata": {},
   "outputs": [
    {
     "name": "stdin",
     "output_type": "stream",
     "text": [
      "Saisir un entier 6\n"
     ]
    },
    {
     "name": "stdout",
     "output_type": "stream",
     "text": [
      "[1, 2, 3, 6]\n"
     ]
    }
   ],
   "source": [
    "n=int(input(\"Saisir un entier\"))\n",
    "diviseurs=[]\n",
    "for i in range(1,n+1):\n",
    "    if n%i==0:\n",
    "        diviseurs.append(i)\n",
    "print(diviseurs)\n"
   ]
  },
  {
   "cell_type": "markdown",
   "metadata": {},
   "source": [
    "**Exercice n°11**"
   ]
  },
  {
   "cell_type": "markdown",
   "metadata": {},
   "source": [
    "Une société de location de voitures propose à ses clients deux contrats :\n",
    "\n",
    "Contrat 1 : un forfait de 50 euros et 0,40 euro par kilomètre parcouru.\n",
    "\n",
    "Contrat 2 : 0,80 euro par kilomètre parcouru.\n",
    "\n",
    "L'objectif est de déterminer le contrat le plus avantageux suivant le nombre de kilomètres parcourus.\n",
    "\n",
    "1. Définir, en langage Python, deux fonctions, $Prix1(x)$ et $Prix2(x)$ qui renvoient \n",
    "le prix payé avec chaque contrat pour $x$ kilomètres parcourus.\n",
    "\n",
    "2. Définir une fonction $Plusavantageux(x)$ qui, en utilisant les deux fonctions précédentes, indique le numéro du contrat le plus avantageux.\n",
    "\n",
    "3. A l'aide de ce qui été fait précédemment, conjecturer à quelle condition le contrat 1 est le plus avantageux.\n",
    "\n",
    "4. Démontrer ou invalider cette conjecture."
   ]
  },
  {
   "cell_type": "code",
   "execution_count": 17,
   "metadata": {},
   "outputs": [
    {
     "name": "stdout",
     "output_type": "stream",
     "text": [
      "58.0\n"
     ]
    }
   ],
   "source": [
    "def prix1(x):\n",
    "    return 0.4*x+50\n",
    "\n",
    "def prix2(x):\n",
    "    return 0.8*x\n",
    "\n"
   ]
  },
  {
   "cell_type": "code",
   "execution_count": null,
   "metadata": {},
   "outputs": [],
   "source": []
  }
 ],
 "metadata": {
  "kernelspec": {
   "display_name": "Python 3",
   "language": "python",
   "name": "python3"
  },
  "language_info": {
   "codemirror_mode": {
    "name": "ipython",
    "version": 3
   },
   "file_extension": ".py",
   "mimetype": "text/x-python",
   "name": "python",
   "nbconvert_exporter": "python",
   "pygments_lexer": "ipython3",
   "version": "3.7.0"
  }
 },
 "nbformat": 4,
 "nbformat_minor": 2
}
